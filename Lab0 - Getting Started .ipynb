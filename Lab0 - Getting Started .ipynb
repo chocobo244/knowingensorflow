{
 "cells": [
  {
   "cell_type": "markdown",
   "metadata": {},
   "source": [
    "# Getting Started - TensorFlow"
   ]
  },
  {
   "cell_type": "markdown",
   "metadata": {},
   "source": [
    "## 1. Pre-requisite for Windows user\n",
    "\n",
    "### Install Python\n",
    "\n",
    "1. Install Python (go to https://www.python.org/downloads/)\n",
    "\n",
    "2. Install Pip (should have been bundled in python)\n",
    "\n",
    "Add `C:\\Python35\\Scripts` into your Windows env values.\n",
    "\n",
    "3. Install VirtualEnv\n",
    "\n",
    "e.g.\n",
    "`pip install virtualenv`\n",
    "\n",
    "4. Install VirtualEnvWrapper-win\n",
    "\n",
    "e.g.\n",
    "`pip install virtualenvwrapper-win`\n",
    "\n",
    "\n",
    "### Install Jupyter\n",
    "\n",
    "`pip install jupyter`\n",
    "\n"
   ]
  },
  {
   "cell_type": "markdown",
   "metadata": {},
   "source": [
    "-------------"
   ]
  },
  {
   "cell_type": "markdown",
   "metadata": {},
   "source": [
    "## 2. Using VirtualEnv\n",
    "\n",
    "`pip install virtualenv`\n",
    "\n",
    "`virtualenv -p <python_bin> <virtual_name>`\n",
    "\n",
    "`source bin/activate`\n",
    "\n",
    "e.g.\n",
    "\n",
    "`virtualenv -p /usr/local/bin/python3.6 tensorlab`\n",
    "\n",
    "### Install Numpy, Pandas\n",
    "\n",
    "`pip install numpy`\n",
    "\n",
    "`pip install pandas`\n",
    "\n",
    "### Install TensorFlow\n",
    "\n",
    "\n",
    "`pip install tensorflow`\n",
    "\n",
    "\n",
    "Reference - https://www.tensorflow.org/install/install_sources\n",
    "\n",
    "### Install iPyKernel\n",
    "\n",
    "`pip install ipykernel`\n",
    "\n",
    "### Create custom kernel on Jupyter notebook\n",
    "\n",
    "`python -m ipykernel install --user --name=<name>`\n",
    "\n",
    "e.g.\n",
    "\n",
    "`python -m ipykernel install --user --name=tensorlab`"
   ]
  },
  {
   "cell_type": "markdown",
   "metadata": {},
   "source": [
    "---"
   ]
  },
  {
   "cell_type": "markdown",
   "metadata": {},
   "source": [
    "## 3. Check Installation & Version\n",
    "\n",
    "\n",
    "```python\n",
    "(tensorlab) mbpNano:tensorlab thenghui$ python\n",
    "Python 3.6.0 (v3.6.0:41df79263a11, Dec 22 2016, 17:23:13) \n",
    "[GCC 4.2.1 (Apple Inc. build 5666) (dot 3)] on darwin\n",
    "Type \"help\", \"copyright\", \"credits\" or \"license\" for more information.\n",
    ">>> import tensorflow as tf\n",
    ">>> tf.__version__\n",
    "'1.12.0'\n",
    ">>> \n",
    "```"
   ]
  },
  {
   "cell_type": "code",
   "execution_count": null,
   "metadata": {},
   "outputs": [],
   "source": []
  }
 ],
 "metadata": {
  "kernelspec": {
   "display_name": "leadclass1",
   "language": "python",
   "name": "leadclass1"
  },
  "language_info": {
   "codemirror_mode": {
    "name": "ipython",
    "version": 3
   },
   "file_extension": ".py",
   "mimetype": "text/x-python",
   "name": "python",
   "nbconvert_exporter": "python",
   "pygments_lexer": "ipython3",
   "version": "3.6.0"
  }
 },
 "nbformat": 4,
 "nbformat_minor": 2
}
