{
 "cells": [
  {
   "cell_type": "code",
   "execution_count": 2,
   "metadata": {},
   "outputs": [],
   "source": [
    "import tensorflow as tf\n",
    "import numpy as np"
   ]
  },
  {
   "cell_type": "markdown",
   "metadata": {},
   "source": [
    "# Graph & Session"
   ]
  },
  {
   "cell_type": "code",
   "execution_count": 3,
   "metadata": {},
   "outputs": [
    {
     "name": "stdout",
     "output_type": "stream",
     "text": [
      "[3 6 9]\n"
     ]
    }
   ],
   "source": [
    "# numpy array\n",
    "a = np.array([1,2,3])\n",
    "b = np.array([2,4,6])\n",
    "c = np.add(a,b)\n",
    "print(c)"
   ]
  },
  {
   "cell_type": "markdown",
   "metadata": {},
   "source": [
    "### constant"
   ]
  },
  {
   "cell_type": "code",
   "execution_count": 4,
   "metadata": {},
   "outputs": [
    {
     "name": "stdout",
     "output_type": "stream",
     "text": [
      "Tensor(\"Add:0\", shape=(3,), dtype=int32)\n"
     ]
    }
   ],
   "source": [
    "\n",
    "# tensor - no immediate evaluation\n",
    "x = tf.constant([1,2,3], name=\"x\")\n",
    "y = tf.constant([2,4,6], name=\"y\")\n",
    "z = tf.add(x,y) # no calculation happens at this line\n",
    "print(z)\n"
   ]
  },
  {
   "cell_type": "code",
   "execution_count": 4,
   "metadata": {},
   "outputs": [
    {
     "name": "stdout",
     "output_type": "stream",
     "text": [
      "[3 6 9]\n"
     ]
    }
   ],
   "source": [
    "# session.run\n",
    "with tf.Session() as sess:\n",
    "    result = sess.run(z) # a sess comes with a graph\n",
    "    result = z.eval()\n",
    "    print(result) # calculation happens here!\n",
    "    \n",
    "#    writer = tf.summary.FileWriter('./lab1_graph_and_session', sess.graph)\n",
    "#writer.close()"
   ]
  },
  {
   "cell_type": "markdown",
   "metadata": {},
   "source": [
    "# Variable & Placeholder\n",
    "\n",
    "## variable"
   ]
  },
  {
   "cell_type": "code",
   "execution_count": 5,
   "metadata": {},
   "outputs": [
    {
     "name": "stdout",
     "output_type": "stream",
     "text": [
      "0\n",
      "1\n",
      "2\n",
      "3\n",
      "4\n",
      "5\n"
     ]
    }
   ],
   "source": [
    "# Variable\n",
    "\n",
    "state = tf.Variable(0, name = 'counter') #a Variable init as 0, named as counter\n",
    "current = tf.add(state, 1) # an operator:add 1 to the variable:state\n",
    "\n",
    "update = tf.assign(state, current) #state <- current\n",
    "\n",
    "#Note: Always remember to init operator if using Variable\n",
    "init = tf.global_variables_initializer()\n",
    "with tf.Session() as sess:\n",
    "    sess.run(init)\n",
    "    print(sess.run(state)) # print init value\n",
    "    \n",
    "    for _ in range(5):\n",
    "        sess.run(update)\n",
    "        print(sess.run(state)) "
   ]
  },
  {
   "cell_type": "code",
   "execution_count": 6,
   "metadata": {},
   "outputs": [
    {
     "name": "stdout",
     "output_type": "stream",
     "text": [
      "<tf.Variable 'model/weight:0' shape=(1, 2) dtype=float32_ref>\n",
      "Loop 0\n",
      "[[0.2840466  0.47179484]]\n",
      "Loop 1\n",
      "[[0.3840466  0.57179487]]\n",
      "Loop 2\n",
      "[[0.48404664 0.6717949 ]]\n"
     ]
    }
   ],
   "source": [
    "# Variable\n",
    "\n",
    "with tf.variable_scope(\"model\", reuse=tf.AUTO_REUSE):\n",
    "    w = tf.get_variable(\"weight\", \n",
    "                       shape=(1,2),\n",
    "                       initializer=tf.truncated_normal_initializer(),\n",
    "                       trainable=True)\n",
    "    \n",
    "    print(w)\n",
    "    \n",
    "    with tf.Session() as sess:\n",
    "        tf.global_variables_initializer().run()\n",
    "        for _ in range(3):\n",
    "            out = tf.add(w, 1)\n",
    "            w = w + 0.1\n",
    "            print('Loop {}'.format(_))\n",
    "            print(sess.run(out))\n",
    "            # TH: Try this\n",
    "            #print(out.eval())"
   ]
  },
  {
   "cell_type": "markdown",
   "metadata": {},
   "source": [
    "## placeholder"
   ]
  },
  {
   "cell_type": "code",
   "execution_count": 6,
   "metadata": {},
   "outputs": [
    {
     "name": "stdout",
     "output_type": "stream",
     "text": [
      "Tensor(\"Placeholder:0\", dtype=float32)\n",
      "[[ 2.2  4.4  6.6]\n",
      " [ 4.   8.  12. ]]\n"
     ]
    }
   ],
   "source": [
    "# Placeholder\n",
    "\n",
    "p1 = tf.placeholder(\"float\", None)\n",
    "p2 = p1 * 2\n",
    "\n",
    "print(p1)\n",
    "\n",
    "with tf.Session() as sess:\n",
    "    print(sess.run(p2, feed_dict={p1: [[1.1,2.2,3.3],[2,4,6]]}))"
   ]
  },
  {
   "cell_type": "markdown",
   "metadata": {},
   "source": [
    "# Tensor\n",
    "## multi dimensionial array of data"
   ]
  },
  {
   "cell_type": "code",
   "execution_count": 7,
   "metadata": {},
   "outputs": [],
   "source": [
    "x0 = tf.constant(3)\n",
    "x1 = tf.constant([1,3,5])\n",
    "x2 = tf.stack([x1,x1])\n",
    "x3 = tf.stack([x2,x2,x2,x2])\n",
    "x4 = tf.stack([x3,x3])"
   ]
  },
  {
   "cell_type": "code",
   "execution_count": 8,
   "metadata": {},
   "outputs": [
    {
     "name": "stdout",
     "output_type": "stream",
     "text": [
      "Tensor(\"Const:0\", shape=(), dtype=int32)\n",
      "Tensor(\"Const_1:0\", shape=(3,), dtype=int32)\n",
      "Tensor(\"stack:0\", shape=(2, 3), dtype=int32)\n",
      "Tensor(\"stack_1:0\", shape=(4, 2, 3), dtype=int32)\n",
      "Tensor(\"stack_2:0\", shape=(2, 4, 2, 3), dtype=int32)\n"
     ]
    }
   ],
   "source": [
    "print(x0)\n",
    "print(x1)\n",
    "print(x2)\n",
    "print(x3)\n",
    "print(x4)"
   ]
  },
  {
   "cell_type": "markdown",
   "metadata": {},
   "source": [
    "## slicing a tensor"
   ]
  },
  {
   "cell_type": "code",
   "execution_count": 9,
   "metadata": {},
   "outputs": [
    {
     "name": "stdout",
     "output_type": "stream",
     "text": [
      "[1 3]\n"
     ]
    }
   ],
   "source": [
    "y = x2[1,0:2]\n",
    "\n",
    "# TH: Try this\n",
    "#y = x2[1,0:2]\n",
    "\n",
    "with tf.Session() as sess:\n",
    "    print(y.eval())"
   ]
  },
  {
   "cell_type": "markdown",
   "metadata": {},
   "source": [
    "## reshape"
   ]
  },
  {
   "cell_type": "code",
   "execution_count": 11,
   "metadata": {},
   "outputs": [
    {
     "name": "stdout",
     "output_type": "stream",
     "text": [
      "[[1 3]\n",
      " [5 2]\n",
      " [4 6]]\n",
      "[5 2]\n"
     ]
    }
   ],
   "source": [
    "x = tf.constant([[1,3,5],\n",
    "                 [2,4,6]])\n",
    "\n",
    "y = tf.reshape(x,[3,2])\n",
    "\n",
    "y2 = tf.reshape(x,[3,2])[1,:]\n",
    "\n",
    "with tf.Session() as sess:\n",
    "    print(y.eval())\n",
    "    print(y2.eval())"
   ]
  },
  {
   "cell_type": "markdown",
   "metadata": {},
   "source": [
    "# TensorBoard"
   ]
  },
  {
   "cell_type": "code",
   "execution_count": 12,
   "metadata": {},
   "outputs": [
    {
     "name": "stdout",
     "output_type": "stream",
     "text": [
      "5\n"
     ]
    }
   ],
   "source": [
    "a, b, c, d = tf.constant(1), tf.constant(2), tf.constant(3),tf.constant(4)\n",
    "\n",
    "add = tf.add(a,b)\n",
    "mul = tf.multiply(add, c)\n",
    "sub = tf.subtract(mul, d)\n",
    "\n",
    "# TH: Try this\n",
    "add = a + b\n",
    "mul = add * c\n",
    "sub = mul - d\n",
    "\n",
    "with tf.Session() as sess:\n",
    "    \n",
    "    fwrite = tf.summary.FileWriter('./lab1_tensorboard', sess.graph)\n",
    "    \n",
    "    print(sess.run(sub))\n",
    "fwrite.close()"
   ]
  },
  {
   "cell_type": "markdown",
   "metadata": {},
   "source": [
    "### How to open TensorBoard?\n",
    "\n",
    "1. At cmd prompt, run \n",
    "\n",
    "`tensorboard --logdir=/path/to/dir`\n",
    "\n",
    "2. At browser, go to http://localhost:6006\n",
    "\n",
    "For info: https://github.com/tensorflow/tensorboard/blob/master/README.md"
   ]
  },
  {
   "cell_type": "code",
   "execution_count": null,
   "metadata": {},
   "outputs": [],
   "source": []
  }
 ],
 "metadata": {
  "kernelspec": {
   "display_name": "leadclass1",
   "language": "python",
   "name": "leadclass1"
  }
 },
 "nbformat": 4,
 "nbformat_minor": 2
}
