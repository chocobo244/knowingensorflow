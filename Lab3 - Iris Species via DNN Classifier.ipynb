{
 "cells": [
  {
   "cell_type": "markdown",
   "metadata": {},
   "source": [
    "# Lab - Iris Species\n",
    "Reference: Iris dataset at https://archive.ics.uci.edu/ml/datasets/iris \n",
    "\n",
    "Exercise: \n",
    "1. Predict the Iris species on test data.\n",
    "\n",
    "\n"
   ]
  },
  {
   "cell_type": "code",
   "execution_count": 2,
   "metadata": {},
   "outputs": [],
   "source": [
    "import tensorflow as tf\n",
    "import numpy as np\n",
    "import pandas as pd\n",
    "import shutil"
   ]
  },
  {
   "cell_type": "markdown",
   "metadata": {},
   "source": [
    "## Read dataset"
   ]
  },
  {
   "cell_type": "code",
   "execution_count": 3,
   "metadata": {},
   "outputs": [
    {
     "data": {
      "text/plain": [
       "sepal_l       float64\n",
       "sepal_w       float64\n",
       "petal_l       float64\n",
       "petal_w       float64\n",
       "iris_class     object\n",
       "dtype: object"
      ]
     },
     "execution_count": 3,
     "metadata": {},
     "output_type": "execute_result"
    }
   ],
   "source": [
    "df = pd.read_csv(\"./data/iris/iris_dataset.csv\")\n",
    "df.dtypes"
   ]
  },
  {
   "cell_type": "code",
   "execution_count": 4,
   "metadata": {},
   "outputs": [
    {
     "data": {
      "text/plain": [
       "Iris-versicolor    50\n",
       "Iris-setosa        50\n",
       "Iris-virginica     50\n",
       "Name: iris_class, dtype: int64"
      ]
     },
     "execution_count": 4,
     "metadata": {},
     "output_type": "execute_result"
    }
   ],
   "source": [
    "df['iris_class'].value_counts()"
   ]
  },
  {
   "cell_type": "markdown",
   "metadata": {},
   "source": [
    "## Categorize string columns"
   ]
  },
  {
   "cell_type": "code",
   "execution_count": 7,
   "metadata": {},
   "outputs": [
    {
     "data": {
      "text/html": [
       "<div>\n",
       "<style scoped>\n",
       "    .dataframe tbody tr th:only-of-type {\n",
       "        vertical-align: middle;\n",
       "    }\n",
       "\n",
       "    .dataframe tbody tr th {\n",
       "        vertical-align: top;\n",
       "    }\n",
       "\n",
       "    .dataframe thead th {\n",
       "        text-align: right;\n",
       "    }\n",
       "</style>\n",
       "<table border=\"1\" class=\"dataframe\">\n",
       "  <thead>\n",
       "    <tr style=\"text-align: right;\">\n",
       "      <th></th>\n",
       "      <th>sepal_l</th>\n",
       "      <th>sepal_w</th>\n",
       "      <th>petal_l</th>\n",
       "      <th>petal_w</th>\n",
       "      <th>iris_class</th>\n",
       "      <th>iris_class_num</th>\n",
       "    </tr>\n",
       "  </thead>\n",
       "  <tbody>\n",
       "    <tr>\n",
       "      <th>0</th>\n",
       "      <td>5.1</td>\n",
       "      <td>3.5</td>\n",
       "      <td>1.4</td>\n",
       "      <td>0.2</td>\n",
       "      <td>Iris-setosa</td>\n",
       "      <td>0</td>\n",
       "    </tr>\n",
       "    <tr>\n",
       "      <th>1</th>\n",
       "      <td>4.9</td>\n",
       "      <td>3.0</td>\n",
       "      <td>1.4</td>\n",
       "      <td>0.2</td>\n",
       "      <td>Iris-setosa</td>\n",
       "      <td>0</td>\n",
       "    </tr>\n",
       "    <tr>\n",
       "      <th>2</th>\n",
       "      <td>4.7</td>\n",
       "      <td>3.2</td>\n",
       "      <td>1.3</td>\n",
       "      <td>0.2</td>\n",
       "      <td>Iris-setosa</td>\n",
       "      <td>0</td>\n",
       "    </tr>\n",
       "    <tr>\n",
       "      <th>3</th>\n",
       "      <td>4.6</td>\n",
       "      <td>3.1</td>\n",
       "      <td>1.5</td>\n",
       "      <td>0.2</td>\n",
       "      <td>Iris-setosa</td>\n",
       "      <td>0</td>\n",
       "    </tr>\n",
       "    <tr>\n",
       "      <th>4</th>\n",
       "      <td>5.0</td>\n",
       "      <td>3.6</td>\n",
       "      <td>1.4</td>\n",
       "      <td>0.2</td>\n",
       "      <td>Iris-setosa</td>\n",
       "      <td>0</td>\n",
       "    </tr>\n",
       "  </tbody>\n",
       "</table>\n",
       "</div>"
      ],
      "text/plain": [
       "   sepal_l  sepal_w  petal_l  petal_w   iris_class  iris_class_num\n",
       "0      5.1      3.5      1.4      0.2  Iris-setosa               0\n",
       "1      4.9      3.0      1.4      0.2  Iris-setosa               0\n",
       "2      4.7      3.2      1.3      0.2  Iris-setosa               0\n",
       "3      4.6      3.1      1.5      0.2  Iris-setosa               0\n",
       "4      5.0      3.6      1.4      0.2  Iris-setosa               0"
      ]
     },
     "execution_count": 7,
     "metadata": {},
     "output_type": "execute_result"
    }
   ],
   "source": [
    "iris_mapping = {\n",
    "    'Iris-setosa': 0,\n",
    "    'Iris-virginica': 1,\n",
    "    'Iris-versicolor': 2,\n",
    "}\n",
    "df['iris_class_num'] = df['iris_class'].map(iris_mapping)\n",
    "df.head()"
   ]
  },
  {
   "cell_type": "markdown",
   "metadata": {},
   "source": [
    "## Features and Label"
   ]
  },
  {
   "cell_type": "code",
   "execution_count": 8,
   "metadata": {},
   "outputs": [],
   "source": [
    "FEATURES_NUM = ['sepal_l','sepal_w','petal_l','petal_w']\n",
    "LABEL = 'iris_class_num'"
   ]
  },
  {
   "cell_type": "markdown",
   "metadata": {},
   "source": [
    "## Split into dataset of: Train, Validation, Test (70%-20%-10%)"
   ]
  },
  {
   "cell_type": "code",
   "execution_count": 9,
   "metadata": {},
   "outputs": [
    {
     "name": "stdout",
     "output_type": "stream",
     "text": [
      "Train set: (105, 6)\n",
      "Validate set: (30, 6)\n",
      "Test set: (15, 6)\n"
     ]
    }
   ],
   "source": [
    "df_train0, df_valid0, df_test0 = np.split(df.sample(frac=1), [int(.7*len(df)), int(.9*len(df))])\n",
    "\n",
    "# Obtain only featured columns\n",
    "df_train = df_train0[['iris_class_num','sepal_l','sepal_w','petal_l','petal_w']]\n",
    "df_valid = df_valid0[['iris_class_num','sepal_l','sepal_w','petal_l','petal_w']]\n",
    "df_test = df_test0[['iris_class_num','sepal_l','sepal_w','petal_l','petal_w']]\n",
    "\n",
    "print('Train set: {}'.format(df_train0.shape))\n",
    "print('Validate set: {}'.format(df_valid0.shape))\n",
    "print('Test set: {}'.format(df_test0.shape))"
   ]
  },
  {
   "cell_type": "markdown",
   "metadata": {},
   "source": [
    "## Determine metrics for validation - Accuracy"
   ]
  },
  {
   "cell_type": "code",
   "execution_count": 10,
   "metadata": {},
   "outputs": [],
   "source": [
    "def print_accuracy(model, df):\n",
    "  metrics = model.evaluate(input_fn = tf.estimator.inputs.pandas_input_fn(\n",
    "    x = df,\n",
    "    y = df[LABEL],\n",
    "    batch_size = 128,\n",
    "    shuffle = False\n",
    "      \n",
    "  ))\n",
    "  print('Accuracy on dataset = {}'.format(metrics['accuracy']))\n",
    "    \n",
    "#print_accuracy(model, df_valid)"
   ]
  },
  {
   "cell_type": "markdown",
   "metadata": {},
   "source": [
    "## Model: DNNClassifier"
   ]
  },
  {
   "cell_type": "code",
   "execution_count": 19,
   "metadata": {},
   "outputs": [
    {
     "name": "stdout",
     "output_type": "stream",
     "text": [
      "INFO:tensorflow:Using config: {'_model_dir': 'model/lab3_class_iris', '_tf_random_seed': None, '_save_summary_steps': 100, '_save_checkpoints_steps': None, '_save_checkpoints_secs': 600, '_session_config': allow_soft_placement: true\n",
      "graph_options {\n",
      "  rewrite_options {\n",
      "    meta_optimizer_iterations: ONE\n",
      "  }\n",
      "}\n",
      ", '_keep_checkpoint_max': 5, '_keep_checkpoint_every_n_hours': 10000, '_log_step_count_steps': 100, '_train_distribute': None, '_device_fn': None, '_protocol': None, '_eval_distribute': None, '_experimental_distribute': None, '_service': None, '_cluster_spec': <tensorflow.python.training.server_lib.ClusterSpec object at 0x12b9e7630>, '_task_type': 'worker', '_task_id': 0, '_global_id_in_cluster': 0, '_master': '', '_evaluation_master': '', '_is_chief': True, '_num_ps_replicas': 0, '_num_worker_replicas': 1}\n",
      "INFO:tensorflow:Calling model_fn.\n",
      "INFO:tensorflow:Done calling model_fn.\n",
      "INFO:tensorflow:Create CheckpointSaverHook.\n",
      "INFO:tensorflow:Graph was finalized.\n",
      "INFO:tensorflow:Running local_init_op.\n",
      "INFO:tensorflow:Done running local_init_op.\n",
      "INFO:tensorflow:Saving checkpoints for 0 into model/lab3_class_iris/model.ckpt.\n",
      "INFO:tensorflow:loss = 144.99638, step = 1\n",
      "INFO:tensorflow:Saving checkpoints for 7 into model/lab3_class_iris/model.ckpt.\n",
      "INFO:tensorflow:Loss for final step: 45.593433.\n",
      "INFO:tensorflow:Calling model_fn.\n",
      "INFO:tensorflow:Done calling model_fn.\n",
      "INFO:tensorflow:Starting evaluation at 2018-12-11-14:31:35\n",
      "INFO:tensorflow:Graph was finalized.\n",
      "INFO:tensorflow:Restoring parameters from model/lab3_class_iris/model.ckpt-7\n",
      "INFO:tensorflow:Running local_init_op.\n",
      "INFO:tensorflow:Done running local_init_op.\n",
      "INFO:tensorflow:Finished evaluation at 2018-12-11-14:31:36\n",
      "INFO:tensorflow:Saving dict for global step 7: accuracy = 0.8, average_loss = 0.506432, global_step = 7, loss = 15.19296\n",
      "INFO:tensorflow:Saving 'checkpoint_path' summary for global step 7: model/lab3_class_iris/model.ckpt-7\n",
      "Accuracy on dataset = 0.800000011920929\n"
     ]
    }
   ],
   "source": [
    "# DNNClassifier\n",
    "OUTDIR = 'model/lab3_class_iris'\n",
    "tf.logging.set_verbosity(tf.logging.INFO)\n",
    "shutil.rmtree(OUTDIR, ignore_errors = True) # start fresh each time\n",
    "\n",
    "model = tf.estimator.DNNClassifier(\n",
    "    hidden_units = [1024, 512],\n",
    "    feature_columns = [tf.feature_column.numeric_column('sepal_l'),\n",
    "                       tf.feature_column.numeric_column('sepal_w'),\n",
    "                       tf.feature_column.numeric_column('petal_l'),\n",
    "                       tf.feature_column.numeric_column('petal_w')\n",
    "                      ], \n",
    "    activation_fn = tf.nn.relu,\n",
    "    n_classes=3,\n",
    "    optimizer=tf.train.AdamOptimizer(\n",
    "      learning_rate=0.001\n",
    "    ),\n",
    "    model_dir = OUTDIR,\n",
    "    config = tf.estimator.RunConfig()\n",
    ")\n",
    "\n",
    "model.train(input_fn = tf.estimator.inputs.pandas_input_fn(\n",
    "    x = df_train,\n",
    "    y = df_train[LABEL],\n",
    "    batch_size = 128,\n",
    "    num_epochs = 8,\n",
    "    shuffle = True\n",
    "  ));\n",
    "\n",
    "print_accuracy(model, df_valid)"
   ]
  },
  {
   "cell_type": "markdown",
   "metadata": {},
   "source": [
    "## Prediction"
   ]
  },
  {
   "cell_type": "code",
   "execution_count": 20,
   "metadata": {},
   "outputs": [
    {
     "name": "stdout",
     "output_type": "stream",
     "text": [
      "INFO:tensorflow:Calling model_fn.\n",
      "INFO:tensorflow:Done calling model_fn.\n",
      "INFO:tensorflow:Graph was finalized.\n",
      "INFO:tensorflow:Restoring parameters from model/lab3_class_iris/model.ckpt-7\n",
      "INFO:tensorflow:Running local_init_op.\n",
      "INFO:tensorflow:Done running local_init_op.\n",
      "{'logits': array([ 1.0983298 , -0.89918566, -0.39644113], dtype=float32), 'probabilities': array([0.73530924, 0.09976083, 0.16492985], dtype=float32), 'class_ids': array([0]), 'classes': array([b'0'], dtype=object)}\n",
      "{'logits': array([-0.56499916,  0.10324459,  0.2415635 ], dtype=float32), 'probabilities': array([0.19264102, 0.37580568, 0.43155333], dtype=float32), 'class_ids': array([2]), 'classes': array([b'2'], dtype=object)}\n",
      "{'logits': array([ 1.1060256 , -0.8941953 , -0.41908967], dtype=float32), 'probabilities': array([0.7391522 , 0.10001129, 0.16083655], dtype=float32), 'class_ids': array([0]), 'classes': array([b'0'], dtype=object)}\n",
      "{'logits': array([-0.45064566,  0.07756329,  0.19751395], dtype=float32), 'probabilities': array([0.21701805, 0.36803925, 0.41494262], dtype=float32), 'class_ids': array([2]), 'classes': array([b'2'], dtype=object)}\n",
      "{'logits': array([ 1.1664795 , -0.92711407, -0.44300836], dtype=float32), 'probabilities': array([0.75572455, 0.0931381 , 0.15113738], dtype=float32), 'class_ids': array([0]), 'classes': array([b'0'], dtype=object)}\n",
      "{'logits': array([-0.6714618 ,  0.15767238,  0.28153074], dtype=float32), 'probabilities': array([0.1699295 , 0.38936526, 0.4407052 ], dtype=float32), 'class_ids': array([2]), 'classes': array([b'2'], dtype=object)}\n",
      "{'logits': array([-1.6013997 ,  0.972272  ,  0.44570312], dtype=float32), 'probabilities': array([0.04574709, 0.59992206, 0.35433078], dtype=float32), 'class_ids': array([1]), 'classes': array([b'1'], dtype=object)}\n",
      "{'logits': array([-1.1496236,  0.5686964,  0.3389039], dtype=float32), 'probabilities': array([0.09086184, 0.5065688 , 0.40256944], dtype=float32), 'class_ids': array([1]), 'classes': array([b'1'], dtype=object)}\n",
      "{'logits': array([-0.73643416,  0.257663  ,  0.34460163], dtype=float32), 'probabilities': array([0.15037559, 0.4063575 , 0.44326684], dtype=float32), 'class_ids': array([2]), 'classes': array([b'2'], dtype=object)}\n",
      "{'logits': array([-1.324791  ,  0.7745955 ,  0.30729288], dtype=float32), 'probabilities': array([0.0700492 , 0.57168275, 0.35826808], dtype=float32), 'class_ids': array([1]), 'classes': array([b'1'], dtype=object)}\n",
      "{'logits': array([-0.68710977,  0.21198572,  0.23059511], dtype=float32), 'probabilities': array([0.16775942, 0.41224852, 0.41999206], dtype=float32), 'class_ids': array([2]), 'classes': array([b'2'], dtype=object)}\n",
      "{'logits': array([-1.2629349 ,  0.72185093,  0.339247  ], dtype=float32), 'probabilities': array([0.07552106, 0.54960364, 0.3748753 ], dtype=float32), 'class_ids': array([1]), 'classes': array([b'1'], dtype=object)}\n",
      "{'logits': array([-0.72023135,  0.25235686,  0.24470745], dtype=float32), 'probabilities': array([0.1595047 , 0.42185497, 0.41864035], dtype=float32), 'class_ids': array([1]), 'classes': array([b'1'], dtype=object)}\n",
      "{'logits': array([ 1.3840638 , -1.0729129 , -0.54236746], dtype=float32), 'probabilities': array([0.81210977, 0.06959262, 0.11829769], dtype=float32), 'class_ids': array([0]), 'classes': array([b'0'], dtype=object)}\n",
      "{'logits': array([ 1.2206764 , -0.96049917, -0.48907775], dtype=float32), 'probabilities': array([0.77290565, 0.08726778, 0.13982655], dtype=float32), 'class_ids': array([0]), 'classes': array([b'0'], dtype=object)}\n"
     ]
    }
   ],
   "source": [
    "predictions = model.predict(input_fn = tf.estimator.inputs.pandas_input_fn(\n",
    "#    x = pd.DataFrame({\n",
    "#                      'Hour':[9,10,12],\n",
    "#                      'Minute':[0,0,0],\n",
    "#                      'IsoWeekday':[4,4,5]}),\n",
    "    x = df_test,\n",
    "    y = None,\n",
    "    batch_size = 128,\n",
    "    shuffle = False\n",
    "  ))\n",
    "\n",
    "for items in predictions:\n",
    "  print(items)"
   ]
  },
  {
   "cell_type": "code",
   "execution_count": 21,
   "metadata": {},
   "outputs": [
    {
     "data": {
      "text/html": [
       "<div>\n",
       "<style scoped>\n",
       "    .dataframe tbody tr th:only-of-type {\n",
       "        vertical-align: middle;\n",
       "    }\n",
       "\n",
       "    .dataframe tbody tr th {\n",
       "        vertical-align: top;\n",
       "    }\n",
       "\n",
       "    .dataframe thead th {\n",
       "        text-align: right;\n",
       "    }\n",
       "</style>\n",
       "<table border=\"1\" class=\"dataframe\">\n",
       "  <thead>\n",
       "    <tr style=\"text-align: right;\">\n",
       "      <th></th>\n",
       "      <th>iris_class_num</th>\n",
       "      <th>sepal_l</th>\n",
       "      <th>sepal_w</th>\n",
       "      <th>petal_l</th>\n",
       "      <th>petal_w</th>\n",
       "    </tr>\n",
       "  </thead>\n",
       "  <tbody>\n",
       "    <tr>\n",
       "      <th>25</th>\n",
       "      <td>0</td>\n",
       "      <td>5.0</td>\n",
       "      <td>3.0</td>\n",
       "      <td>1.6</td>\n",
       "      <td>0.2</td>\n",
       "    </tr>\n",
       "    <tr>\n",
       "      <th>71</th>\n",
       "      <td>2</td>\n",
       "      <td>6.1</td>\n",
       "      <td>2.8</td>\n",
       "      <td>4.0</td>\n",
       "      <td>1.3</td>\n",
       "    </tr>\n",
       "    <tr>\n",
       "      <th>30</th>\n",
       "      <td>0</td>\n",
       "      <td>4.8</td>\n",
       "      <td>3.1</td>\n",
       "      <td>1.6</td>\n",
       "      <td>0.2</td>\n",
       "    </tr>\n",
       "    <tr>\n",
       "      <th>93</th>\n",
       "      <td>2</td>\n",
       "      <td>5.0</td>\n",
       "      <td>2.3</td>\n",
       "      <td>3.3</td>\n",
       "      <td>1.0</td>\n",
       "    </tr>\n",
       "    <tr>\n",
       "      <th>45</th>\n",
       "      <td>0</td>\n",
       "      <td>4.8</td>\n",
       "      <td>3.0</td>\n",
       "      <td>1.4</td>\n",
       "      <td>0.3</td>\n",
       "    </tr>\n",
       "    <tr>\n",
       "      <th>75</th>\n",
       "      <td>2</td>\n",
       "      <td>6.6</td>\n",
       "      <td>3.0</td>\n",
       "      <td>4.4</td>\n",
       "      <td>1.4</td>\n",
       "    </tr>\n",
       "    <tr>\n",
       "      <th>132</th>\n",
       "      <td>1</td>\n",
       "      <td>6.4</td>\n",
       "      <td>2.8</td>\n",
       "      <td>5.6</td>\n",
       "      <td>2.2</td>\n",
       "    </tr>\n",
       "    <tr>\n",
       "      <th>110</th>\n",
       "      <td>1</td>\n",
       "      <td>6.5</td>\n",
       "      <td>3.2</td>\n",
       "      <td>5.1</td>\n",
       "      <td>2.0</td>\n",
       "    </tr>\n",
       "    <tr>\n",
       "      <th>62</th>\n",
       "      <td>2</td>\n",
       "      <td>6.0</td>\n",
       "      <td>2.2</td>\n",
       "      <td>4.0</td>\n",
       "      <td>1.0</td>\n",
       "    </tr>\n",
       "    <tr>\n",
       "      <th>148</th>\n",
       "      <td>1</td>\n",
       "      <td>6.2</td>\n",
       "      <td>3.4</td>\n",
       "      <td>5.4</td>\n",
       "      <td>2.3</td>\n",
       "    </tr>\n",
       "    <tr>\n",
       "      <th>61</th>\n",
       "      <td>2</td>\n",
       "      <td>5.9</td>\n",
       "      <td>3.0</td>\n",
       "      <td>4.2</td>\n",
       "      <td>1.5</td>\n",
       "    </tr>\n",
       "    <tr>\n",
       "      <th>149</th>\n",
       "      <td>1</td>\n",
       "      <td>5.9</td>\n",
       "      <td>3.0</td>\n",
       "      <td>5.1</td>\n",
       "      <td>1.8</td>\n",
       "    </tr>\n",
       "    <tr>\n",
       "      <th>96</th>\n",
       "      <td>2</td>\n",
       "      <td>5.7</td>\n",
       "      <td>2.9</td>\n",
       "      <td>4.2</td>\n",
       "      <td>1.3</td>\n",
       "    </tr>\n",
       "    <tr>\n",
       "      <th>27</th>\n",
       "      <td>0</td>\n",
       "      <td>5.2</td>\n",
       "      <td>3.5</td>\n",
       "      <td>1.5</td>\n",
       "      <td>0.2</td>\n",
       "    </tr>\n",
       "    <tr>\n",
       "      <th>11</th>\n",
       "      <td>0</td>\n",
       "      <td>4.8</td>\n",
       "      <td>3.4</td>\n",
       "      <td>1.6</td>\n",
       "      <td>0.2</td>\n",
       "    </tr>\n",
       "  </tbody>\n",
       "</table>\n",
       "</div>"
      ],
      "text/plain": [
       "     iris_class_num  sepal_l  sepal_w  petal_l  petal_w\n",
       "25                0      5.0      3.0      1.6      0.2\n",
       "71                2      6.1      2.8      4.0      1.3\n",
       "30                0      4.8      3.1      1.6      0.2\n",
       "93                2      5.0      2.3      3.3      1.0\n",
       "45                0      4.8      3.0      1.4      0.3\n",
       "75                2      6.6      3.0      4.4      1.4\n",
       "132               1      6.4      2.8      5.6      2.2\n",
       "110               1      6.5      3.2      5.1      2.0\n",
       "62                2      6.0      2.2      4.0      1.0\n",
       "148               1      6.2      3.4      5.4      2.3\n",
       "61                2      5.9      3.0      4.2      1.5\n",
       "149               1      5.9      3.0      5.1      1.8\n",
       "96                2      5.7      2.9      4.2      1.3\n",
       "27                0      5.2      3.5      1.5      0.2\n",
       "11                0      4.8      3.4      1.6      0.2"
      ]
     },
     "execution_count": 21,
     "metadata": {},
     "output_type": "execute_result"
    }
   ],
   "source": [
    "df_test.head(16)"
   ]
  },
  {
   "cell_type": "code",
   "execution_count": null,
   "metadata": {},
   "outputs": [],
   "source": []
  }
 ],
 "metadata": {
  "kernelspec": {
   "display_name": "leadclass1",
   "language": "python",
   "name": "leadclass1"
  },
  "language_info": {
   "codemirror_mode": {
    "name": "ipython",
    "version": 3
   },
   "file_extension": ".py",
   "mimetype": "text/x-python",
   "name": "python",
   "nbconvert_exporter": "python",
   "pygments_lexer": "ipython3",
   "version": "3.6.0"
  }
 },
 "nbformat": 4,
 "nbformat_minor": 2
}
